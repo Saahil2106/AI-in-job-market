{
 "cells": [
  {
   "cell_type": "code",
   "execution_count": null,
   "metadata": {},
   "outputs": [],
   "source": [
    "import pandas as pd\n",
    "\n",
    "df = pd.read_csv('merged_newsapi_data.csv')\n",
    "\n",
    "for col in df.select_dtypes(include=['object']).columns:\n",
    "    if df[col].nunique() / len(df[col]) < 0.5: \n",
    "        df[col] = df[col].astype('category')\n",
    "df.to_csv('arm_data.csv', index=False, encoding='utf-8')  \n",
    "# df.to_csv('arm_data.csv.gz', index=False, compression='gzip')  # Compressed version (better for storage)"
   ]
  }
 ],
 "metadata": {
  "language_info": {
   "name": "python"
  }
 },
 "nbformat": 4,
 "nbformat_minor": 2
}
