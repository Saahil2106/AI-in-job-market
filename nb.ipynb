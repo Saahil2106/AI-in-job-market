{
 "cells": [
  {
   "cell_type": "code",
   "execution_count": null,
   "id": "cefb06c7",
   "metadata": {},
   "outputs": [
    {
     "name": "stdout",
     "output_type": "stream",
     "text": [
      " Label Distribution:\n",
      "Label\n",
      "Tech         92\n",
      "Business     63\n",
      "Unknown      32\n",
      "Education    13\n",
      "Name: count, dtype: int64\n",
      "\n",
      " Sample of Labeled Data:\n",
      "                                               Title  \\\n",
      "0  International universities give graduates an edge   \n",
      "1                   Growing Malaysia’sAI talent pool   \n",
      "2  Only 9% of Japanese people have used generativ...   \n",
      "3  As Meta and tech giants trim jobs, will 2025 w...   \n",
      "4  The Rise Of The Hybrid Workforce: Humans And A...   \n",
      "\n",
      "                                         Description      Label  \n",
      "0  KUALA LUMPUR: Students should choose an intern...  Education  \n",
      "1  WHILE Malaysia strives to embed artificial int...   Business  \n",
      "2  While 61 percent of Japanese people are aware ...       Tech  \n",
      "3  Meta eliminated 3,000 positions, while Workday...    Unknown  \n",
      "4  We are moving from the hybrid workplace, with ...       Tech  \n"
     ]
    },
    {
     "name": "stderr",
     "output_type": "stream",
     "text": [
      "<>:4: SyntaxWarning: invalid escape sequence '\\T'\n",
      "<>:26: SyntaxWarning: invalid escape sequence '\\T'\n",
      "<>:4: SyntaxWarning: invalid escape sequence '\\T'\n",
      "<>:26: SyntaxWarning: invalid escape sequence '\\T'\n",
      "C:\\Users\\saahi\\AppData\\Local\\Temp\\ipykernel_10108\\3942857029.py:4: SyntaxWarning: invalid escape sequence '\\T'\n",
      "  df = pd.read_csv(\"D:\\Text Mining\\Project\\merged_newsapi_data.csv\")\n",
      "C:\\Users\\saahi\\AppData\\Local\\Temp\\ipykernel_10108\\3942857029.py:26: SyntaxWarning: invalid escape sequence '\\T'\n",
      "  df.to_csv(\"D:\\Text Mining\\Project\\labeled_news_dataset.csv\", index=False)\n"
     ]
    }
   ],
   "source": [
    "import pandas as pd\n",
    "\n",
    "df = pd.read_csv(r\"D:\\Text Mining\\Project\\merged_newsapi_data.csv\")\n",
    "\n",
    "df['text'] = (df['Title'].fillna('') + ' ' + df['Description'].fillna('')).str.lower()\n",
    "\n",
    "df['Label'] = 'Unknown'\n",
    "\n",
    "df.loc[df['text'].str.contains(\"ai|machine learning|artificial intelligence|automation|robot\", regex=True), 'Label'] = 'Tech'\n",
    "df.loc[df['text'].str.contains(\"school|university|student|education|curriculum|graduates\", regex=True), 'Label'] = 'Education'\n",
    "df.loc[df['text'].str.contains(\"business|company|market|economy|industry|finance|startup\", regex=True), 'Label'] = 'Business'\n",
    "\n",
    "print(\" Label Distribution:\")\n",
    "print(df['Label'].value_counts())\n",
    "\n",
    "print(\"\\n Sample of Labeled Data:\")\n",
    "print(df[['Title', 'Description', 'Label']].head())\n",
    "\n",
    "df.to_csv(\"D:\\Text Mining\\Project\\labeled_news_dataset.csv\", index=False)\n"
   ]
  },
  {
   "cell_type": "code",
   "execution_count": null,
   "id": "22a8eb7f",
   "metadata": {},
   "outputs": [
    {
     "name": "stdout",
     "output_type": "stream",
     "text": [
      " Training Set Sample:\n",
      "                                 Processed_Description    Label\n",
      "178  fast ai innovation comes at the expense of gov...     Tech\n",
      "90   socure, the leading provider of artificial int...     Tech\n",
      "127  today's workforce is struggling to keep up wit...     Tech\n",
      "41   the vice president’s speech at the paris ai su...     Tech\n",
      "155  an entrepreneurial mindset is valuable in this...  Unknown\n",
      "\n",
      " Testing Set Sample:\n",
      "                                 Processed_Description     Label\n",
      "133  discover ai's future in 2025! see how chatgpt,...  Business\n",
      "189  ai could replace millions of jobs by 2030, wit...      Tech\n",
      "30   the german economy is struggling with stagnati...  Business\n",
      "57   new resources and ai-powered tools simplify th...      Tech\n",
      "65   driven by the demand for renewable energy and ...   Unknown\n"
     ]
    },
    {
     "name": "stderr",
     "output_type": "stream",
     "text": [
      "<>:6: SyntaxWarning: invalid escape sequence '\\T'\n",
      "<>:6: SyntaxWarning: invalid escape sequence '\\T'\n",
      "C:\\Users\\saahi\\AppData\\Local\\Temp\\ipykernel_10108\\2444112279.py:6: SyntaxWarning: invalid escape sequence '\\T'\n",
      "  df = pd.read_csv(\"D:\\Text Mining\\Project\\labeled_news_dataset.csv\")\n"
     ]
    }
   ],
   "source": [
    "import pandas as pd\n",
    "import numpy as np\n",
    "from sklearn.model_selection import train_test_split\n",
    "\n",
    "df = pd.read_csv(r\"D:\\Text Mining\\Project\\labeled_news_dataset.csv\")\n",
    "\n",
    "if df['Label'].nunique() == 1 and df['Label'].unique()[0] == 'Unknown':\n",
    "    np.random.seed(42)\n",
    "    df['Label'] = np.random.choice(['Tech', 'Education', 'Business'], size=len(df))\n",
    "\n",
    "X = df['Processed_Description']  \n",
    "y = df['Label']  \n",
    "\n",
    "X_train, X_test, y_train, y_test = train_test_split(\n",
    "    X, y, test_size=0.2, random_state=42, stratify=y\n",
    ")\n",
    "\n",
    "train_set = pd.DataFrame({'Processed_Description': X_train, 'Label': y_train})\n",
    "test_set = pd.DataFrame({'Processed_Description': X_test, 'Label': y_test})\n",
    "\n",
    "# Show small samples\n",
    "print(\" Training Set Sample:\")\n",
    "print(train_set.head())\n",
    "print(\"\\n Testing Set Sample:\")\n",
    "print(test_set.head())\n"
   ]
  },
  {
   "cell_type": "code",
   "execution_count": null,
   "id": "e7be6007",
   "metadata": {},
   "outputs": [
    {
     "name": "stdout",
     "output_type": "stream",
     "text": [
      " Classification Report:\n",
      "\n",
      "              precision    recall  f1-score   support\n",
      "\n",
      "    Business       0.60      0.46      0.52        13\n",
      "   Education       1.00      0.67      0.80         3\n",
      "        Tech       0.68      0.83      0.75        18\n",
      "\n",
      "    accuracy                           0.68        34\n",
      "   macro avg       0.76      0.65      0.69        34\n",
      "weighted avg       0.68      0.68      0.67        34\n",
      "\n"
     ]
    }
   ],
   "source": [
    "import pandas as pd\n",
    "from sklearn.model_selection import train_test_split\n",
    "from sklearn.feature_extraction.text import CountVectorizer\n",
    "from sklearn.naive_bayes import MultinomialNB\n",
    "from sklearn.pipeline import Pipeline\n",
    "from sklearn.metrics import classification_report\n",
    "\n",
    "df = pd.read_csv(r\"D:\\Text Mining\\Project\\labeled_news_dataset.csv\")\n",
    "\n",
    "df['text'] = (df['Title'].fillna('') + ' ' + df['Description'].fillna('')).str.lower()\n",
    "\n",
    "df['Label'] = 'Unknown'\n",
    "df.loc[df['text'].str.contains(\"ai|machine learning|artificial intelligence|automation|robot\", regex=True), 'Label'] = 'Tech'\n",
    "df.loc[df['text'].str.contains(\"school|university|student|education|curriculum|graduates\", regex=True), 'Label'] = 'Education'\n",
    "df.loc[df['text'].str.contains(\"business|company|market|economy|industry|finance|startup\", regex=True), 'Label'] = 'Business'\n",
    "\n",
    "df_clean = df[df['Label'] != 'Unknown']\n",
    "\n",
    "X = df_clean['text']\n",
    "y = df_clean['Label']\n",
    "\n",
    "X_train, X_test, y_train, y_test = train_test_split(\n",
    "    X, y, test_size=0.2, random_state=42, stratify=y\n",
    ")\n",
    "\n",
    "nb_pipeline = Pipeline([\n",
    "    ('vectorizer', CountVectorizer()),  \n",
    "    ('classifier', MultinomialNB())     \n",
    "])\n",
    "\n",
    "nb_pipeline.fit(X_train, y_train)\n",
    "\n",
    "y_pred = nb_pipeline.predict(X_test)\n",
    "print(\" Classification Report:\\n\")\n",
    "print(classification_report(y_test, y_pred))\n"
   ]
  },
  {
   "cell_type": "code",
   "execution_count": null,
   "id": "86147a69",
   "metadata": {},
   "outputs": [
    {
     "name": "stdout",
     "output_type": "stream",
     "text": [
      "Classification Report:\n",
      "              precision    recall  f1-score   support\n",
      "\n",
      "    Business       0.60      0.46      0.52        13\n",
      "   Education       1.00      0.67      0.80         3\n",
      "        Tech       0.68      0.83      0.75        18\n",
      "\n",
      "    accuracy                           0.68        34\n",
      "   macro avg       0.76      0.65      0.69        34\n",
      "weighted avg       0.68      0.68      0.67        34\n",
      "\n"
     ]
    },
    {
     "data": {
      "image/png": "[encoded data removed]",
      "text/plain": [
       "<Figure size 600x500 with 2 Axes>"
      ]
     },
     "metadata": {},
     "output_type": "display_data"
    }
   ],
   "source": [
    "import pandas as pd\n",
    "import numpy as np\n",
    "from sklearn.model_selection import train_test_split\n",
    "from sklearn.feature_extraction.text import CountVectorizer\n",
    "from sklearn.naive_bayes import MultinomialNB\n",
    "from sklearn.pipeline import Pipeline\n",
    "from sklearn.metrics import classification_report, confusion_matrix, accuracy_score\n",
    "import matplotlib.pyplot as plt\n",
    "import seaborn as sns\n",
    "\n",
    "df = pd.read_csv(r\"labeled_news_dataset.csv\")\n",
    "\n",
    "df['text'] = (df['Title'].fillna('') + ' ' + df['Description'].fillna('')).str.lower()\n",
    "\n",
    "df['Label'] = 'Unknown'\n",
    "df.loc[df['text'].str.contains(\"ai|machine learning|artificial intelligence|automation|robot\", regex=True), 'Label'] = 'Tech'\n",
    "df.loc[df['text'].str.contains(\"school|university|student|education|curriculum|graduates\", regex=True), 'Label'] = 'Education'\n",
    "df.loc[df['text'].str.contains(\"business|company|market|economy|industry|finance|startup\", regex=True), 'Label'] = 'Business'\n",
    "\n",
    "df_clean = df[df['Label'] != 'Unknown']\n",
    "\n",
    "X = df_clean['text']\n",
    "y = df_clean['Label']\n",
    "X_train, X_test, y_train, y_test = train_test_split(X, y, test_size=0.2, stratify=y, random_state=42)\n",
    "\n",
    "nb_pipeline = Pipeline([\n",
    "    ('vectorizer', CountVectorizer()),\n",
    "    ('classifier', MultinomialNB())\n",
    "])\n",
    "\n",
    "nb_pipeline.fit(X_train, y_train)\n",
    "\n",
    "y_pred = nb_pipeline.predict(X_test)\n",
    "accuracy = accuracy_score(y_test, y_pred)\n",
    "print(\"Classification Report:\")\n",
    "print(classification_report(y_test, y_pred))\n",
    "\n",
    "labels = ['Tech', 'Education', 'Business']\n",
    "cm = confusion_matrix(y_test, y_pred, labels=labels)\n",
    "\n",
    "plt.figure(figsize=(6, 5))\n",
    "sns.heatmap(cm, annot=True, fmt='d', cmap='Blues', xticklabels=labels, yticklabels=labels)\n",
    "plt.title(f'Confusion Matrix (Accuracy: {accuracy:.2f})')\n",
    "plt.xlabel('Predicted Label')\n",
    "plt.ylabel('True Label')\n",
    "plt.tight_layout()\n",
    "plt.show()\n"
   ]
  }
 ],
 "metadata": {
  "kernelspec": {
   "display_name": "Python 3",
   "language": "python",
   "name": "python3"
  },
  "language_info": {
   "codemirror_mode": {
    "name": "ipython",
    "version": 3
   },
   "file_extension": ".py",
   "mimetype": "text/x-python",
   "name": "python",
   "nbconvert_exporter": "python",
   "pygments_lexer": "ipython3",
   "version": "3.12.10"
  }
 },
 "nbformat": 4,
 "nbformat_minor": 5
}
